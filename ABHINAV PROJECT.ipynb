{
 "cells": [
  {
   "cell_type": "code",
   "execution_count": null,
   "id": "4352e68c-e9dc-4c41-bc13-706858928513",
   "metadata": {},
   "outputs": [],
   "source": [
    "Q1. In the below elements which of them are values or an expression? eg:- values can be\n",
    "integer or string and expressions will be mathematical operators.\n",
    "\n",
    "*   expressions\n",
    "'hello'  value\n",
    "-87.8 value\n",
    "-  expressions\n",
    "/  expressions\n",
    "+  expressions\n",
    "6  value"
   ]
  },
  {
   "cell_type": "code",
   "execution_count": 5,
   "id": "fbf76a93-bc98-45d9-8a1b-732334bd2266",
   "metadata": {},
   "outputs": [
    {
     "name": "stdout",
     "output_type": "stream",
     "text": [
      "i am learning python\n"
     ]
    }
   ],
   "source": [
    "# Q2. The difference between a string and a variable is fundamental in programming:\n",
    "\n",
    "# * A string is data type used to represent text.\n",
    "# * It is usually written inside quotes(single,double or triple)\n",
    "         \"hello,world\"\n",
    "          '123'\n",
    "     \n",
    "# * A variable is a named container used to store data ( string,number,list)\n",
    "# * you cam assign a string to a variable.\n",
    "message = \"i am learning python\"\n",
    "print(message)    \n"
   ]
  },
  {
   "cell_type": "code",
   "execution_count": null,
   "id": "5793a92d-64eb-440b-81c8-0c1ae7e29722",
   "metadata": {},
   "outputs": [],
   "source": [
    "Q3.Describe three different data types.\n",
    "\n",
    "Inetger (int)\n",
    "*Represents whole numbers (positive or negative) without decimals.\n",
    "*Used for counting, indexing, math, etc.\n",
    "example =  6,-3\n",
    "\n",
    "\n",
    "String (str)\n",
    "*Represents a sequence of characters, such as words or sentences.\n",
    "*Enclosed in single (') or double (\") quotes.\n",
    "example =  \"gaurav\"\n",
    "            'i am a good boy'\n",
    "\n",
    "\n",
    "Float (float) \n",
    "*Represents decimal numbers (numbers with a fractional part).\n",
    "*Used in measurements, calculations involving fractions, etc.\n",
    "example = 654.87, \n",
    "         -98.57"
   ]
  },
  {
   "cell_type": "markdown",
   "id": "18d6d194-9d0f-4d93-b6ab-4dd806a0d1cc",
   "metadata": {
    "jp-MarkdownHeadingCollapsed": true
   },
   "source": [
    "Q4.What is an expression made up of? What do all expressions do?\n",
    "\n",
    "*An expression in programming is made up of values, variables, and operators that can be evaluated to produce another value.\n",
    "* All expressions evaluate to a value.This means when Python runs an expression, it computes and returns a result.\n",
    "example = 2 + 3    Evaluates to 5\n",
    "     \"Hi \" + \"there\"  Evaluates to \"Hi there\"\n"
   ]
  },
  {
   "cell_type": "code",
   "execution_count": 14,
   "id": "500a1efa-9188-4e73-94cc-7f9112361a31",
   "metadata": {},
   "outputs": [
    {
     "data": {
      "text/plain": [
       "'hello!'"
      ]
     },
     "execution_count": 14,
     "metadata": {},
     "output_type": "execute_result"
    }
   ],
   "source": [
    "# Q.5This assignment statements, like spam = 10. What is the difference between anexpression and a statement?\n",
    "\n",
    "# Expression\n",
    "# *An expression is a piece of code that evaluates to a value.\n",
    "# *It can be part of a statement.\n",
    "# *Always returns something (a number, string, etc.).\n",
    "# example = \n",
    "8 + 1\n",
    "\"hello\"+\"!\"\n",
    "\n"
   ]
  },
  {
   "cell_type": "code",
   "execution_count": null,
   "id": "d7ec087f-0e23-4cdf-9fc9-5c66f18c56f6",
   "metadata": {},
   "outputs": [],
   "source": [
    "Statement\n",
    "*A statement is a complete instruction that does something.\n",
    "*It may contain expressions.\n",
    "*Does not return a value, it performs an action.\n",
    "example =\n",
    "x = 10\n",
    "print(\"hello\")"
   ]
  },
  {
   "cell_type": "code",
   "execution_count": null,
   "id": "8f4cc4a8-921f-4428-a960-f5a1c6910876",
   "metadata": {},
   "outputs": [],
   "source": [
    "Q.6After running the following code, what does the variable bacon contain?\n",
    "bacon = 22\n",
    "bacon + 1"
   ]
  },
  {
   "cell_type": "code",
   "execution_count": 17,
   "id": "76d5e026-80c8-4e0f-a922-8809fc9e158d",
   "metadata": {},
   "outputs": [
    {
     "name": "stdout",
     "output_type": "stream",
     "text": [
      "23\n"
     ]
    }
   ],
   "source": [
    "bacon = 22\n",
    "print(bacon + 1)"
   ]
  },
  {
   "cell_type": "code",
   "execution_count": 19,
   "id": "c1343598-2259-40a9-86a4-4bb76396b3ef",
   "metadata": {},
   "outputs": [],
   "source": [
    "bacon = bacon+1"
   ]
  },
  {
   "cell_type": "code",
   "execution_count": 20,
   "id": "65e4e579-ad52-472f-836e-cdf22984f4da",
   "metadata": {},
   "outputs": [
    {
     "data": {
      "text/plain": [
       "24"
      ]
     },
     "execution_count": 20,
     "metadata": {},
     "output_type": "execute_result"
    }
   ],
   "source": [
    "bacon"
   ]
  },
  {
   "cell_type": "code",
   "execution_count": 23,
   "id": "f31ded50-559d-4218-9044-cf30a83a06f4",
   "metadata": {},
   "outputs": [
    {
     "data": {
      "text/plain": [
       "'spamspamspam'"
      ]
     },
     "execution_count": 23,
     "metadata": {},
     "output_type": "execute_result"
    }
   ],
   "source": [
    "# Q.7What should the values of the following two terms be?\n",
    "'spam' + 'spamspam'\n",
    "'spam'*3"
   ]
  },
  {
   "cell_type": "code",
   "execution_count": null,
   "id": "40883c9e-71b7-478c-b69b-db12b050762a",
   "metadata": {},
   "outputs": [],
   "source": [
    "Q8.Why is eggs a valid variable name while 100 is invalid?\n",
    "\n",
    "\n",
    "eggs is a valid variable name because:\n",
    "*It starts with a letter (which is allowed).\n",
    "*It only contains letters (also allowed).\n",
    "*It follows the rules for identifiers in Python.\n",
    "example= eggs, spam123\n",
    "\n",
    "                     \n",
    "100 is an invalid variable name because:\n",
    "*It starts with a number, which is not allowed for variable names in Python.\n",
    "*Variable names cannot begin with a digit.\n",
    "example= 100, 2beOrNot\n",
    "\n"
   ]
  },
  {
   "cell_type": "code",
   "execution_count": null,
   "id": "fb4be296-b232-488e-8e1a-7bb9047211cf",
   "metadata": {},
   "outputs": [],
   "source": [
    "Q9.What three functions can be used to get the integer, floating-point number, or stringversion of a value?\n",
    "\n",
    "\n",
    "1. int()\n",
    "Converts a value to an integer.\n",
    "Example: int('5') → 5\n",
    "\n",
    "2. float()\n",
    "Converts a value to a floating-point number.\n",
    "Example: float('5.7') → 5.7\n",
    "\n",
    "3. str()\n",
    "Converts a value to a string.\n",
    "\n",
    "Example: str(7) → '7'\n",
    "\n",
    "\n",
    "\n",
    "\n",
    "\n"
   ]
  },
  {
   "cell_type": "markdown",
   "id": "f8f4d773-dbda-4c52-b6b6-bcd03c12bedc",
   "metadata": {},
   "source": [
    "Q10.Why does this expression cause an error? How can you fix it?'I have eaten' + 99 +'burritos'"
   ]
  },
  {
   "cell_type": "code",
   "execution_count": 24,
   "id": "4743103e-4ada-421e-bec0-2dc7a13772f6",
   "metadata": {},
   "outputs": [
    {
     "data": {
      "text/plain": [
       "'I have eaten99burritos'"
      ]
     },
     "execution_count": 24,
     "metadata": {},
     "output_type": "execute_result"
    }
   ],
   "source": [
    "'I have eaten'+ str(99) +'burritos'"
   ]
  },
  {
   "cell_type": "code",
   "execution_count": null,
   "id": "f3bbfc69-64eb-4f8f-9f8b-d76beda4db9c",
   "metadata": {},
   "outputs": [],
   "source": []
  }
 ],
 "metadata": {
  "kernelspec": {
   "display_name": "Python [conda env:base] *",
   "language": "python",
   "name": "conda-base-py"
  },
  "language_info": {
   "codemirror_mode": {
    "name": "ipython",
    "version": 3
   },
   "file_extension": ".py",
   "mimetype": "text/x-python",
   "name": "python",
   "nbconvert_exporter": "python",
   "pygments_lexer": "ipython3",
   "version": "3.13.5"
  }
 },
 "nbformat": 4,
 "nbformat_minor": 5
}
